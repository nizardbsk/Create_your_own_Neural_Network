{
  "nbformat": 4,
  "nbformat_minor": 0,
  "metadata": {
    "colab": {
      "provenance": [],
      "authorship_tag": "ABX9TyMz2aMbWtaIj4V/LoRQz/J6",
      "include_colab_link": true
    },
    "kernelspec": {
      "name": "python3",
      "display_name": "Python 3"
    },
    "language_info": {
      "name": "python"
    }
  },
  "cells": [
    {
      "cell_type": "markdown",
      "metadata": {
        "id": "view-in-github",
        "colab_type": "text"
      },
      "source": [
        "<a href=\"https://colab.research.google.com/github/nizardbsk/Create_your_own_Neural_Network/blob/main/Simple_NN.ipynb\" target=\"_parent\"><img src=\"https://colab.research.google.com/assets/colab-badge.svg\" alt=\"Open In Colab\"/></a>"
      ]
    },
    {
      "cell_type": "code",
      "execution_count": 1,
      "metadata": {
        "id": "Iczvtr9BG7xt"
      },
      "outputs": [],
      "source": [
        "import numpy\n",
        "import scipy.special\n"
      ]
    },
    {
      "cell_type": "code",
      "source": [
        "class NeuralNetwork:\n",
        "  def __init__(self,inputnodes,hiddennodes,outputnodes,learningrate):\n",
        "    # set number of nodes in each layer\n",
        "    self.inodes=inputnodes\n",
        "    self.hnodes=hiddennodes\n",
        "    self.onodes=outputnodes\n",
        "    # set the learning rate\n",
        "    self.lr=learningrate\n",
        "    # creating the weights matrices\n",
        "    self.wih=(numpy.random.normal(0.0,(pow(int(self.hnodes),-0.5)),(int(self.hnodes),int(self.inodes))))\n",
        "    self.who=(numpy.random.normal(0.0,(pow(int(self.onodes),-0.5)),(int(self.onodes),int(self.hnodes))))\n",
        "    #set the activation function\n",
        "    self.act_fnc= lambda x: scipy.special.expit(x)\n",
        "  def train(self,inputs_list,targets_list):\n",
        "    inputs = numpy.array(inputs_list, ndmin=2).T\n",
        "    targets = numpy.array(targets_list,ndmin=2).T\n",
        "    hidden_inputs=numpy.dot(self.wih,inputs)\n",
        "    hidden_outputs=self.act_fnc(hidden_inputs)\n",
        "    final_inputs=numpy.dot(self.who,hidden_outputs)\n",
        "    final_outputs=self.act_fnc(hidden_inputs)\n",
        "    # set the error\n",
        "    output_errors = targets-final_outputs\n",
        "    # hidden layer error\n",
        "    hidden_errors = numpy.dot(self.who.T,output_errors)\n",
        "    # update the weights for the links between the hidden and output layers\n",
        "    self.who += self.lr * numpy.dot((output_errors * final_outputs * (1- final_outputs)),numpy.transpose(hidden_outputs))\n",
        "\n",
        "\n",
        "    # update the weights for the links between the input and  hidden layers\n",
        "    self.wih += self.lr * numpy.dot((hidden_errors * hidden_outputs * (1- hidden_outputs)),numpy.transpose(inputs))\n",
        "\n",
        "  def query(self,inputs_list):\n",
        "    inputs = numpy.array(inputs_list, ndmin=2).T\n",
        "    hidden_inputs=numpy.dot(self.wih,inputs)\n",
        "    hidden_outputs=self.act_fnc(hidden_inputs)\n",
        "    final_inputs=numpy.dot(self.who,hidden_outputs)\n",
        "    final_outputs=self.act_fnc(hidden_inputs)\n",
        "    return final_outputs"
      ],
      "metadata": {
        "id": "Afze5EZ1HJxx"
      },
      "execution_count": 2,
      "outputs": []
    },
    {
      "cell_type": "code",
      "source": [
        "n=NeuralNetwork(3,3,3,0.3)"
      ],
      "metadata": {
        "id": "8wZCeC0GHQjc"
      },
      "execution_count": 3,
      "outputs": []
    },
    {
      "cell_type": "code",
      "source": [
        "n.query([1.0,0.5,-1.5])\n"
      ],
      "metadata": {
        "colab": {
          "base_uri": "https://localhost:8080/"
        },
        "id": "82YLV_VzHUVm",
        "outputId": "635a59b0-1db9-400b-faf7-637fcf70e574"
      },
      "execution_count": 4,
      "outputs": [
        {
          "output_type": "execute_result",
          "data": {
            "text/plain": [
              "array([[0.64293334],\n",
              "       [0.85900932],\n",
              "       [0.43726112]])"
            ]
          },
          "metadata": {},
          "execution_count": 4
        }
      ]
    },
    {
      "cell_type": "code",
      "source": [],
      "metadata": {
        "id": "9dL-wBCPNOld"
      },
      "execution_count": 4,
      "outputs": []
    }
  ]
}